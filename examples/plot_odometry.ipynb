{
 "cells": [
  {
   "cell_type": "markdown",
   "metadata": {},
   "source": [
    "### Odometry plotting example\n",
    "\n",
    "This notebook shows how to plot recorded odometry data. It depends on the `xrview` package which can be installed with:\n",
    "\n",
    "    $ pip install git+https://github.com/phausamann/xrview.git\n"
   ]
  },
  {
   "cell_type": "code",
   "execution_count": null,
   "metadata": {},
   "outputs": [],
   "source": [
    "import xarray as xr\n",
    "import pupil_recording_interface as pri\n",
    "import xrview"
   ]
  },
  {
   "cell_type": "code",
   "execution_count": null,
   "metadata": {},
   "outputs": [],
   "source": [
    "def plot_timeseries(data, figsize):\n",
    "    \"\"\" Interactive plot for timeseries data. \"\"\"\n",
    "    p = xrview.plot(\n",
    "        data, x='time', output='notebook', server=True, resolution=1, \n",
    "        figsize=figsize, theme=theme, border_fill_color=None)\n",
    "    p.show()"
   ]
  },
  {
   "cell_type": "code",
   "execution_count": null,
   "metadata": {},
   "outputs": [],
   "source": [
    "recording = pri.DATA_DIR + '/test_recording'"
   ]
  },
  {
   "cell_type": "code",
   "execution_count": null,
   "metadata": {},
   "outputs": [],
   "source": [
    "theme = None #set to 'dark_minimal' for dark theme"
   ]
  },
  {
   "cell_type": "code",
   "execution_count": null,
   "metadata": {},
   "outputs": [],
   "source": [
    "odometry = pri.load_dataset(recording, odometry='recording')"
   ]
  },
  {
   "cell_type": "code",
   "execution_count": null,
   "metadata": {},
   "outputs": [],
   "source": [
    "plot_timeseries(odometry[['linear_velocity', 'angular_velocity']], (600, 400))"
   ]
  }
 ],
 "metadata": {
  "kernelspec": {
   "display_name": "Python [conda env:pupil-recording-interface]",
   "language": "python",
   "name": "conda-env-pupil-recording-interface-py"
  },
  "language_info": {
   "codemirror_mode": {
    "name": "ipython",
    "version": 3
   },
   "file_extension": ".py",
   "mimetype": "text/x-python",
   "name": "python",
   "nbconvert_exporter": "python",
   "pygments_lexer": "ipython3",
   "version": "3.7.3"
  }
 },
 "nbformat": 4,
 "nbformat_minor": 4
}
