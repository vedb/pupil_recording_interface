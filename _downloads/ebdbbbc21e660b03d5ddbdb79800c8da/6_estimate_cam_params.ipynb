{
  "cells": [
    {
      "cell_type": "code",
      "execution_count": null,
      "metadata": {
        "collapsed": false
      },
      "outputs": [],
      "source": [
        "%matplotlib inline"
      ]
    },
    {
      "cell_type": "markdown",
      "metadata": {},
      "source": [
        "\n\n# Estimate camera parameters\n\nThis examples shows how to estimate the intrinsic parameters of a connected\nPupil Core world camera.\n\n<div class=\"alert alert-info\"><h4>Note</h4><p>This example requires the dependencies for\n    `streaming<streaming_dependencies>`.</p></div>\n\n\n"
      ]
    },
    {
      "cell_type": "code",
      "execution_count": null,
      "metadata": {
        "collapsed": false
      },
      "outputs": [],
      "source": [
        "import sys\nimport logging\n\nimport pupil_recording_interface as pri"
      ]
    },
    {
      "cell_type": "markdown",
      "metadata": {},
      "source": [
        "## Set Pupil Core generation\n\nSet the generation of your Pupil Core device (1, 2 or 3)\n\n"
      ]
    },
    {
      "cell_type": "code",
      "execution_count": null,
      "metadata": {
        "collapsed": false
      },
      "outputs": [],
      "source": [
        "pupil_gen = 2"
      ]
    },
    {
      "cell_type": "markdown",
      "metadata": {},
      "source": [
        "## Set folder for saving camera parameter\n\n"
      ]
    },
    {
      "cell_type": "code",
      "execution_count": null,
      "metadata": {
        "collapsed": false
      },
      "outputs": [],
      "source": [
        "folder = \"~/pupil_capture_settings\""
      ]
    },
    {
      "cell_type": "markdown",
      "metadata": {},
      "source": [
        "## Set up stream configurations\n\n"
      ]
    },
    {
      "cell_type": "code",
      "execution_count": null,
      "metadata": {
        "collapsed": false
      },
      "outputs": [],
      "source": [
        "configs = [\n    pri.VideoStream.Config(\n        device_type=\"uvc\",\n        device_uid=f\"Pupil Cam{pupil_gen} ID2\",\n        name=\"world\",\n        resolution=(1280, 720),\n        fps=30,\n        pipeline=[\n            pri.CircleGridDetector.Config(),\n            pri.CamParamEstimator.Config(folder=folder, streams=(\"world\",)),\n            pri.VideoDisplay.Config(),\n        ],\n    ),\n]"
      ]
    },
    {
      "cell_type": "markdown",
      "metadata": {},
      "source": [
        "## Set up logger\n\n"
      ]
    },
    {
      "cell_type": "code",
      "execution_count": null,
      "metadata": {
        "collapsed": false
      },
      "outputs": [],
      "source": [
        "logging.basicConfig(\n    stream=sys.stdout, level=logging.INFO, format=\"%(message)s\"\n)"
      ]
    },
    {
      "cell_type": "markdown",
      "metadata": {},
      "source": [
        "## Run manager\nWith one of the video windows in focus, press 'i' to acquire a pattern. You\nneed 10 in total, attempting to cover the entire FOV of the camera. Press 'q'\nto quit.\n\n"
      ]
    },
    {
      "cell_type": "code",
      "execution_count": null,
      "metadata": {
        "collapsed": false
      },
      "outputs": [],
      "source": [
        "with pri.StreamManager(configs) as manager:\n    while not manager.stopped:\n        if manager.keypresses._getvalue():\n            key = manager.keypresses.popleft()\n            if key.lower() == \"i\":\n                manager.send_notification({\"acquire_pattern\": True})\n            elif key.lower() == \"q\":\n                break\n\nprint(\"\\nStopped\")"
      ]
    }
  ],
  "metadata": {
    "kernelspec": {
      "display_name": "Python 3",
      "language": "python",
      "name": "python3"
    },
    "language_info": {
      "codemirror_mode": {
        "name": "ipython",
        "version": 3
      },
      "file_extension": ".py",
      "mimetype": "text/x-python",
      "name": "python",
      "nbconvert_exporter": "python",
      "pygments_lexer": "ipython3",
      "version": "3.6.15"
    }
  },
  "nbformat": 4,
  "nbformat_minor": 0
}