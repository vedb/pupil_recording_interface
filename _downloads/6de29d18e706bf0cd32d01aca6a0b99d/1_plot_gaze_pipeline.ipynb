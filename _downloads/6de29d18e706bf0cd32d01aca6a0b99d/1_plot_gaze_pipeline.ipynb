{
  "cells": [
    {
      "cell_type": "code",
      "execution_count": null,
      "metadata": {
        "collapsed": false
      },
      "outputs": [],
      "source": [
        "%matplotlib inline"
      ]
    },
    {
      "cell_type": "markdown",
      "metadata": {},
      "source": [
        "\n\n# Gaze mapping pipeline\n\nThis example shows how to perform post-hoc pupil detection, calibration marker\ndetection, calibration and gaze mapping.\n\n<div class=\"alert alert-info\"><h4>Note</h4><p>This example requires the dependencies for\n    `pupil detection<pupil_detection_dependencies>` as well as\n    ``matplotlib``.</p></div>\n\n"
      ]
    },
    {
      "cell_type": "code",
      "execution_count": null,
      "metadata": {
        "collapsed": false
      },
      "outputs": [],
      "source": [
        "import pupil_recording_interface as pri"
      ]
    },
    {
      "cell_type": "markdown",
      "metadata": {},
      "source": [
        "## Set recording folder\n\n"
      ]
    },
    {
      "cell_type": "code",
      "execution_count": null,
      "metadata": {
        "collapsed": false
      },
      "outputs": [],
      "source": [
        "folder = pri.get_test_recording()"
      ]
    },
    {
      "cell_type": "markdown",
      "metadata": {},
      "source": [
        "## Create readers for video streams\n\n"
      ]
    },
    {
      "cell_type": "code",
      "execution_count": null,
      "metadata": {
        "collapsed": false
      },
      "outputs": [],
      "source": [
        "world_reader = pri.VideoReader(folder)\neye0_reader = pri.VideoReader(folder, stream=\"eye0\", color_format=\"gray\")\neye1_reader = pri.VideoReader(folder, stream=\"eye1\", color_format=\"gray\")"
      ]
    },
    {
      "cell_type": "markdown",
      "metadata": {},
      "source": [
        "## Detect pupils\n\n"
      ]
    },
    {
      "cell_type": "code",
      "execution_count": null,
      "metadata": {
        "collapsed": false
      },
      "outputs": [],
      "source": [
        "pupil_detector_eye0 = pri.PupilDetector(camera_id=0)\npupil_list_eye0 = pupil_detector_eye0.batch_run(eye0_reader)\n\npupil_detector_eye1 = pri.PupilDetector(camera_id=1)\npupil_list_eye1 = pupil_detector_eye1.batch_run(eye1_reader)"
      ]
    },
    {
      "cell_type": "markdown",
      "metadata": {},
      "source": [
        "## Detect calibration markers\n\n"
      ]
    },
    {
      "cell_type": "code",
      "execution_count": null,
      "metadata": {
        "collapsed": false
      },
      "outputs": [],
      "source": [
        "marker_detector = pri.CircleDetector()\nmarker_list = marker_detector.batch_run(world_reader)"
      ]
    },
    {
      "cell_type": "markdown",
      "metadata": {},
      "source": [
        "## Merge pupil data and run calibration\n\n"
      ]
    },
    {
      "cell_type": "code",
      "execution_count": null,
      "metadata": {
        "collapsed": false
      },
      "outputs": [],
      "source": [
        "calibration = pri.Calibration(resolution=world_reader.resolution)\npupil_list = pri.merge_pupils(pupil_list_eye0, pupil_list_eye1)\ncalibration_result = calibration.batch_run(pupil_list, marker_list)"
      ]
    },
    {
      "cell_type": "markdown",
      "metadata": {},
      "source": [
        "## Map gaze as dataset\n\n"
      ]
    },
    {
      "cell_type": "code",
      "execution_count": null,
      "metadata": {
        "collapsed": false
      },
      "outputs": [],
      "source": [
        "gaze_mapper = pri.GazeMapper(calibration=calibration_result)\ngaze = gaze_mapper.batch_run(\n    pupil_list, return_type=\"dataset\", info=world_reader.info\n)"
      ]
    },
    {
      "cell_type": "markdown",
      "metadata": {},
      "source": [
        "## Plot gaze\n\n"
      ]
    },
    {
      "cell_type": "code",
      "execution_count": null,
      "metadata": {
        "collapsed": false
      },
      "outputs": [],
      "source": [
        "norm_pos = gaze.gaze_norm_pos.where(gaze.gaze_confidence_2d > 0.7)\nnorm_pos.plot.line(x=\"time\")"
      ]
    }
  ],
  "metadata": {
    "kernelspec": {
      "display_name": "Python 3",
      "language": "python",
      "name": "python3"
    },
    "language_info": {
      "codemirror_mode": {
        "name": "ipython",
        "version": 3
      },
      "file_extension": ".py",
      "mimetype": "text/x-python",
      "name": "python",
      "nbconvert_exporter": "python",
      "pygments_lexer": "ipython3",
      "version": "3.6.15"
    }
  },
  "nbformat": 4,
  "nbformat_minor": 0
}