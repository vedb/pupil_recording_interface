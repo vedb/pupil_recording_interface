{
  "cells": [
    {
      "cell_type": "code",
      "execution_count": null,
      "metadata": {
        "collapsed": false
      },
      "outputs": [],
      "source": [
        "%matplotlib inline"
      ]
    },
    {
      "cell_type": "markdown",
      "metadata": {},
      "source": [
        "\n\n# Stream from a recording\n\nThis example shows a dummy streaming setup that uses the recording included\nin the package.\n\n"
      ]
    },
    {
      "cell_type": "code",
      "execution_count": null,
      "metadata": {
        "collapsed": false
      },
      "outputs": [],
      "source": [
        "import sys\nimport logging\n\nimport pupil_recording_interface as pri"
      ]
    },
    {
      "cell_type": "markdown",
      "metadata": {},
      "source": [
        "## Set recording folder\n\n"
      ]
    },
    {
      "cell_type": "code",
      "execution_count": null,
      "metadata": {
        "collapsed": false
      },
      "outputs": [],
      "source": [
        "folder = pri.get_test_recording()"
      ]
    },
    {
      "cell_type": "markdown",
      "metadata": {},
      "source": [
        "## Set up stream configurations\n\n"
      ]
    },
    {
      "cell_type": "code",
      "execution_count": null,
      "metadata": {
        "collapsed": false
      },
      "outputs": [],
      "source": [
        "configs = [\n    pri.VideoStream.Config(\n        device_type=\"video_file\",\n        device_uid=\"world\",\n        resolution=(1280, 720),\n        pipeline=[pri.GazeMapper.Config(), pri.VideoDisplay.Config()],\n    ),\n    pri.VideoStream.Config(\n        device_type=\"video_file\",\n        device_uid=\"eye0\",\n        resolution=(192, 192),\n        pipeline=[\n            pri.VideoFileSyncer.Config(\"world\"),\n            pri.PupilDetector.Config(),\n            pri.VideoDisplay.Config(flip=True),\n        ],\n    ),\n    pri.VideoStream.Config(\n        device_type=\"video_file\",\n        device_uid=\"eye1\",\n        resolution=(192, 192),\n        pipeline=[\n            pri.VideoFileSyncer.Config(\"world\"),\n            pri.PupilDetector.Config(),\n            pri.VideoDisplay.Config(),\n        ],\n    ),\n]"
      ]
    },
    {
      "cell_type": "markdown",
      "metadata": {},
      "source": [
        "## Set up logger\n\n"
      ]
    },
    {
      "cell_type": "code",
      "execution_count": null,
      "metadata": {
        "collapsed": false
      },
      "outputs": [],
      "source": [
        "logging.basicConfig(\n    stream=sys.stdout, level=logging.INFO, format=\"%(message)s\"\n)"
      ]
    },
    {
      "cell_type": "markdown",
      "metadata": {},
      "source": [
        "## Run manager\n\n<div class=\"alert alert-info\"><h4>Note</h4><p>When running the script from the command line, press 'Ctrl+C' to stop the\n    manager. When running from a Jupyter notebook, interrupt the kernel\n    (*Kernel > Interrupt Kernel* or press 'Esc' and then twice 'i').</p></div>\n\n"
      ]
    },
    {
      "cell_type": "code",
      "execution_count": null,
      "metadata": {
        "collapsed": false
      },
      "outputs": [],
      "source": [
        "with pri.StreamManager(configs, folder=folder, policy=\"read\") as manager:\n    while not manager.stopped:\n        if manager.all_streams_running:\n            status = manager.format_status(\n                \"fps\", format=\"{:.2f} Hz\", max_cols=72, sleep=0.1\n            )\n            print(\"\\r\" + status, end=\"\")\n\nprint(\"\\nStopped\")"
      ]
    }
  ],
  "metadata": {
    "kernelspec": {
      "display_name": "Python 3",
      "language": "python",
      "name": "python3"
    },
    "language_info": {
      "codemirror_mode": {
        "name": "ipython",
        "version": 3
      },
      "file_extension": ".py",
      "mimetype": "text/x-python",
      "name": "python",
      "nbconvert_exporter": "python",
      "pygments_lexer": "ipython3",
      "version": "3.6.13"
    }
  },
  "nbformat": 4,
  "nbformat_minor": 0
}