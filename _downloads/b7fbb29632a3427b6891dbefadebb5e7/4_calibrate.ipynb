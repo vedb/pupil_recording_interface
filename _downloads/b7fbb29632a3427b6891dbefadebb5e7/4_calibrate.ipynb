{
  "cells": [
    {
      "cell_type": "code",
      "execution_count": null,
      "metadata": {
        "collapsed": false
      },
      "outputs": [],
      "source": [
        "%matplotlib inline"
      ]
    },
    {
      "cell_type": "markdown",
      "metadata": {},
      "source": [
        "\n\n# Calibrate gaze mapping\n\nThis examples shows how to calibrate the gaze mapper with a connected Pupil\nCore headset.\n\n\n<div class=\"alert alert-info\"><h4>Note</h4><p>This example requires the dependencies for\n    `streaming<streaming_dependencies>` and\n    `pupil detection<pupil_detection_dependencies>`.</p></div>\n\n\n"
      ]
    },
    {
      "cell_type": "code",
      "execution_count": null,
      "metadata": {
        "collapsed": false
      },
      "outputs": [],
      "source": [
        "import sys\nimport logging\n\nimport pupil_recording_interface as pri"
      ]
    },
    {
      "cell_type": "markdown",
      "metadata": {},
      "source": [
        "## Set Pupil Core generation\n\nSet the generation of your Pupil Core device (1, 2 or 3)\n\n"
      ]
    },
    {
      "cell_type": "code",
      "execution_count": null,
      "metadata": {
        "collapsed": false
      },
      "outputs": [],
      "source": [
        "pupil_gen = 2"
      ]
    },
    {
      "cell_type": "markdown",
      "metadata": {},
      "source": [
        "## Set folder for saving calibration\n\n"
      ]
    },
    {
      "cell_type": "code",
      "execution_count": null,
      "metadata": {
        "collapsed": false
      },
      "outputs": [],
      "source": [
        "folder = \"~/pupil_capture_settings\""
      ]
    },
    {
      "cell_type": "markdown",
      "metadata": {},
      "source": [
        "## Set up stream configurations\n\n"
      ]
    },
    {
      "cell_type": "code",
      "execution_count": null,
      "metadata": {
        "collapsed": false
      },
      "outputs": [],
      "source": [
        "configs = [\n    pri.VideoStream.Config(\n        device_type=\"uvc\",\n        device_uid=f\"Pupil Cam{pupil_gen} ID2\",\n        name=\"world\",\n        resolution=(1280, 720),\n        fps=30,\n        pipeline=[\n            pri.CircleDetector.Config(paused=True),\n            pri.Calibration.Config(save=True, folder=folder),\n            pri.GazeMapper.Config(),\n            pri.VideoDisplay.Config(),\n        ],\n    ),\n    pri.VideoStream.Config(\n        device_type=\"uvc\",\n        device_uid=f\"Pupil Cam{pupil_gen} ID0\",\n        name=\"eye0\",\n        resolution=(320, 240) if pupil_gen == 1 else (192, 192),\n        fps=120,\n        color_format=\"gray\",\n        pipeline=[\n            pri.PupilDetector.Config(),\n            pri.VideoDisplay.Config(flip=True),\n        ],\n    ),\n    pri.VideoStream.Config(\n        device_type=\"uvc\",\n        device_uid=f\"Pupil Cam{pupil_gen} ID1\",\n        name=\"eye1\",\n        resolution=(320, 240) if pupil_gen == 1 else (192, 192),\n        fps=120,\n        color_format=\"gray\",\n        pipeline=[pri.PupilDetector.Config(), pri.VideoDisplay.Config()],\n    ),\n]"
      ]
    },
    {
      "cell_type": "markdown",
      "metadata": {},
      "source": [
        "## Set up logger\n\n"
      ]
    },
    {
      "cell_type": "code",
      "execution_count": null,
      "metadata": {
        "collapsed": false
      },
      "outputs": [],
      "source": [
        "logging.basicConfig(\n    stream=sys.stdout, level=logging.INFO, format=\"%(message)s\"\n)"
      ]
    },
    {
      "cell_type": "markdown",
      "metadata": {},
      "source": [
        "## Run manager\nWith one of the video windows in focus, press 'c' to start collecting\ncalibration data, then 'c' again to calculate the calibration from the\ncollected data. Press 'q' to quit.\n\n"
      ]
    },
    {
      "cell_type": "code",
      "execution_count": null,
      "metadata": {
        "collapsed": false
      },
      "outputs": [],
      "source": [
        "collecting = False\nwith pri.StreamManager(configs) as manager:\n    while not manager.stopped:\n        if manager.keypresses._getvalue():\n            key = manager.keypresses.popleft()\n            if key.lower() == \"c\":\n                if not collecting:\n                    print(\"Collecting calibration data...\")\n                    manager.send_notification(\n                        {\"resume_process\": \"world.CircleDetector\"},\n                        streams=[\"world\"],\n                    )\n                    manager.send_notification(\n                        {\"collect_calibration_data\": True}, streams=[\"world\"],\n                    )\n                    collecting = True\n                else:\n                    print(\"Calculating calibration...\")\n                    manager.send_notification(\n                        {\"pause_process\": \"world.CircleDetector\"},\n                        streams=[\"world\"],\n                    )\n                    manager.send_notification({\"calculate_calibration\": True})\n                    collecting = False\n            elif key.lower() == \"q\":\n                break\n\nprint(\"\\nStopped\")"
      ]
    }
  ],
  "metadata": {
    "kernelspec": {
      "display_name": "Python 3",
      "language": "python",
      "name": "python3"
    },
    "language_info": {
      "codemirror_mode": {
        "name": "ipython",
        "version": 3
      },
      "file_extension": ".py",
      "mimetype": "text/x-python",
      "name": "python",
      "nbconvert_exporter": "python",
      "pygments_lexer": "ipython3",
      "version": "3.6.13"
    }
  },
  "nbformat": 4,
  "nbformat_minor": 0
}