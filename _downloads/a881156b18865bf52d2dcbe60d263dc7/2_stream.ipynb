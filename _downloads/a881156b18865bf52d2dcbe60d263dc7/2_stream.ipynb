{
  "cells": [
    {
      "cell_type": "code",
      "execution_count": null,
      "metadata": {
        "collapsed": false
      },
      "outputs": [],
      "source": [
        "%matplotlib inline"
      ]
    },
    {
      "cell_type": "markdown",
      "metadata": {},
      "source": [
        "\n\n# Stream from connected devices\n\nThis example shows how to stream video data from a connected Pupil Core\nheadset.\n\n<div class=\"alert alert-info\"><h4>Note</h4><p>This example requires the dependencies for\n    `streaming<streaming_dependencies>`.</p></div>\n\n\n"
      ]
    },
    {
      "cell_type": "code",
      "execution_count": null,
      "metadata": {
        "collapsed": false
      },
      "outputs": [],
      "source": [
        "import sys\nimport logging\n\nimport pupil_recording_interface as pri"
      ]
    },
    {
      "cell_type": "markdown",
      "metadata": {},
      "source": [
        "## Set Pupil Core generation\n\nSet the generation of your Pupil Core device (1, 2 or 3)\n\n"
      ]
    },
    {
      "cell_type": "code",
      "execution_count": null,
      "metadata": {
        "collapsed": false
      },
      "outputs": [],
      "source": [
        "pupil_gen = 2"
      ]
    },
    {
      "cell_type": "markdown",
      "metadata": {},
      "source": [
        "## Set up stream configurations\n\n"
      ]
    },
    {
      "cell_type": "code",
      "execution_count": null,
      "metadata": {
        "collapsed": false
      },
      "outputs": [],
      "source": [
        "configs = [\n    pri.VideoStream.Config(\n        device_type=\"uvc\",\n        device_uid=f\"Pupil Cam{pupil_gen} ID2\",\n        name=\"world\",\n        resolution=(1280, 720),\n        fps=30,\n        pipeline=[pri.VideoDisplay.Config()],\n    ),\n    pri.VideoStream.Config(\n        device_type=\"uvc\",\n        device_uid=f\"Pupil Cam{pupil_gen} ID0\",\n        name=\"eye0\",\n        resolution=(320, 240) if pupil_gen == 1 else (192, 192),\n        fps=120,\n        color_format=\"gray\",\n        pipeline=[pri.VideoDisplay.Config(flip=True)],\n    ),\n    pri.VideoStream.Config(\n        device_type=\"uvc\",\n        device_uid=f\"Pupil Cam{pupil_gen} ID1\",\n        name=\"eye1\",\n        resolution=(320, 240) if pupil_gen == 1 else (192, 192),\n        fps=120,\n        color_format=\"gray\",\n        pipeline=[pri.VideoDisplay.Config()],\n    ),\n]"
      ]
    },
    {
      "cell_type": "markdown",
      "metadata": {},
      "source": [
        "## Set up logger\n\n"
      ]
    },
    {
      "cell_type": "code",
      "execution_count": null,
      "metadata": {
        "collapsed": false
      },
      "outputs": [],
      "source": [
        "logging.basicConfig(\n    stream=sys.stdout, level=logging.INFO, format=\"%(message)s\"\n)"
      ]
    },
    {
      "cell_type": "markdown",
      "metadata": {},
      "source": [
        "## Run manager\n\n<div class=\"alert alert-info\"><h4>Note</h4><p>When running the script from the command line, press 'Ctrl+C' to stop the\n    manager. When running from a Jupyter notebook, interrupt the kernel\n    (*Kernel > Interrupt Kernel* or press 'Esc' and then twice 'i').</p></div>\n\n"
      ]
    },
    {
      "cell_type": "code",
      "execution_count": null,
      "metadata": {
        "collapsed": false
      },
      "outputs": [],
      "source": [
        "with pri.StreamManager(configs) as manager:\n    while not manager.stopped:\n        if manager.all_streams_running:\n            status = manager.format_status(\n                \"fps\", format=\"{:.2f} Hz\", max_cols=72, sleep=0.1\n            )\n            print(\"\\r\" + status, end=\"\")\n\nprint(\"\\nStopped\")"
      ]
    }
  ],
  "metadata": {
    "kernelspec": {
      "display_name": "Python 3",
      "language": "python",
      "name": "python3"
    },
    "language_info": {
      "codemirror_mode": {
        "name": "ipython",
        "version": 3
      },
      "file_extension": ".py",
      "mimetype": "text/x-python",
      "name": "python",
      "nbconvert_exporter": "python",
      "pygments_lexer": "ipython3",
      "version": "3.6.15"
    }
  },
  "nbformat": 4,
  "nbformat_minor": 0
}